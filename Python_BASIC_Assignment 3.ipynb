{
 "cells": [
  {
   "cell_type": "markdown",
   "id": "be124724",
   "metadata": {},
   "source": [
    "1. Why are functions advantageous to have in your programs?"
   ]
  },
  {
   "cell_type": "markdown",
   "id": "976d1e35",
   "metadata": {},
   "source": [
    "-  Functions are the most important aspect of an application. A function can be defined as the organized block of reusable code, which can be called whenever required.\n",
    "-  Python allows us to divide a large program into the basic building blocks known as a function. The function contains the set of programming statements enclosed by {}.\n",
    "-  Using functions, we can avoid rewriting the same logic/code again and again in a program.\n",
    "-  We can call Python functions multiple times in a program and anywhere in a program.\n",
    "-  We can track a large Python program easily when it is divided into multiple functions.\n",
    "-  Reusability is the main achievement of Python functions.\n",
    "-  However, Function calling is always overhead in a Python program."
   ]
  },
  {
   "cell_type": "markdown",
   "id": "f4c58347",
   "metadata": {},
   "source": [
    "2.When does the code in a function run: when it's specified or when it's called?"
   ]
  },
  {
   "cell_type": "markdown",
   "id": "5ccd6546",
   "metadata": {},
   "source": [
    "- The Code in a Function Runs only when it's called and not when it's specified."
   ]
  },
  {
   "cell_type": "markdown",
   "id": "e3ff5124",
   "metadata": {},
   "source": [
    "3. What statement creates a function?"
   ]
  },
  {
   "cell_type": "markdown",
   "id": "e94f3fa4",
   "metadata": {},
   "source": [
    "- DEF FUNC_NAME():\n",
    "    ARGUMENTS()\n",
    "    \n",
    "    THE above syntax is used to create a function."
   ]
  },
  {
   "cell_type": "markdown",
   "id": "8f012e7a",
   "metadata": {},
   "source": [
    "4. What is the difference between a function and a function call?"
   ]
  },
  {
   "cell_type": "markdown",
   "id": "3ad12c65",
   "metadata": {},
   "source": [
    "A function is a block of code that does a particular operation and returns a result. It usually accepts inputs as parameters and returns a result. The parameters are not mandatory.\n",
    "\n",
    "E.g:\n",
    "Function add(a,b)\n",
    "return a+ b\n",
    "\n",
    "A function call is the code used to pass control to a function.\n",
    "\n",
    "E.g.:\n",
    "\n",
    "b = add(3,62)\n",
    "\n",
    "Now b will have the value 65."
   ]
  },
  {
   "cell_type": "markdown",
   "id": "6e5b07d4",
   "metadata": {},
   "source": [
    "5. How many global scopes are there in a Python program? How many local scopes?\n"
   ]
  },
  {
   "cell_type": "markdown",
   "id": "a6bda77b",
   "metadata": {},
   "source": [
    "- There is one global scope, and a local scope is created whenever a function is called"
   ]
  },
  {
   "cell_type": "markdown",
   "id": "b227a1cc",
   "metadata": {},
   "source": [
    "6. What happens to variables in a local scope when the function call returns?"
   ]
  },
  {
   "cell_type": "markdown",
   "id": "446c28c4",
   "metadata": {},
   "source": [
    "- When a function returns, the local scope is destroyed, and all the variables in it are forgotten. we will not be able to access the out side the function"
   ]
  },
  {
   "cell_type": "markdown",
   "id": "413d30b2",
   "metadata": {},
   "source": [
    "7. What is the concept of a return value? Is it possible to have a return value in an expression?"
   ]
  },
  {
   "cell_type": "markdown",
   "id": "ca948c26",
   "metadata": {},
   "source": [
    "- A return value is the value that a function call evaluates to. A return value can be used as part of an expression, Like any value\n"
   ]
  },
  {
   "cell_type": "markdown",
   "id": "0d56eccf",
   "metadata": {},
   "source": [
    "8. If a function does not have a return statement, what is the return value of a call to that function?"
   ]
  },
  {
   "cell_type": "markdown",
   "id": "c2082e1b",
   "metadata": {},
   "source": [
    "- If there is no return statement for a function, its return value is None"
   ]
  },
  {
   "cell_type": "markdown",
   "id": "5f625ecb",
   "metadata": {},
   "source": [
    "9. How do you make a function variable refer to the global variable?"
   ]
  },
  {
   "cell_type": "markdown",
   "id": "2fbcdac3",
   "metadata": {},
   "source": [
    "- By representing a valible by global keyword in the body of a function Example : global a"
   ]
  },
  {
   "cell_type": "markdown",
   "id": "2d1f544c",
   "metadata": {},
   "source": [
    "10. What is the data type of None?"
   ]
  },
  {
   "cell_type": "markdown",
   "id": "fd7b0d87",
   "metadata": {},
   "source": [
    "- The data type of none is NoneType"
   ]
  },
  {
   "cell_type": "markdown",
   "id": "08567819",
   "metadata": {},
   "source": [
    "11. What does the sentence import areallyourpetsnamederic do?"
   ]
  },
  {
   "cell_type": "markdown",
   "id": "c249066d",
   "metadata": {},
   "source": [
    "areallyourpetsnamederic ia not a python module. Importing this module will throughs ModuleNotFoundError exception\n"
   ]
  },
  {
   "cell_type": "code",
   "execution_count": 10,
   "id": "4b774a50",
   "metadata": {},
   "outputs": [
    {
     "ename": "ModuleNotFoundError",
     "evalue": "No module named 'areallyourpetsnamederic'",
     "output_type": "error",
     "traceback": [
      "\u001b[1;31m---------------------------------------------------------------------------\u001b[0m",
      "\u001b[1;31mModuleNotFoundError\u001b[0m                       Traceback (most recent call last)",
      "Input \u001b[1;32mIn [10]\u001b[0m, in \u001b[0;36m<cell line: 1>\u001b[1;34m()\u001b[0m\n\u001b[1;32m----> 1\u001b[0m \u001b[38;5;28;01mimport\u001b[39;00m \u001b[38;5;21;01mareallyourpetsnamederic\u001b[39;00m\n",
      "\u001b[1;31mModuleNotFoundError\u001b[0m: No module named 'areallyourpetsnamederic'"
     ]
    }
   ],
   "source": [
    "import areallyourpetsnamederic"
   ]
  },
  {
   "cell_type": "markdown",
   "id": "92c45be6",
   "metadata": {},
   "source": [
    "12. If you had a bacon() feature in a spam module, what would you call it after importing spam?"
   ]
  },
  {
   "cell_type": "markdown",
   "id": "bd90390a",
   "metadata": {},
   "source": [
    "- This function can be called with spam.bacon(). like below\n",
    "    import spam\n",
    "    spam.bacon()"
   ]
  },
  {
   "cell_type": "markdown",
   "id": "2208d105",
   "metadata": {},
   "source": [
    "13. What can you do to save a programme from crashing if it encounters an error?"
   ]
  },
  {
   "cell_type": "markdown",
   "id": "90c0eb1b",
   "metadata": {},
   "source": [
    "- we can write lines of code in try block. This will not crash the programme. And in except block we can catch the \n",
    "exception"
   ]
  },
  {
   "cell_type": "markdown",
   "id": "059ca2af",
   "metadata": {},
   "source": [
    "14. What is the purpose of the try clause? What is the purpose of the except clause?"
   ]
  },
  {
   "cell_type": "markdown",
   "id": "ba8bb462",
   "metadata": {},
   "source": [
    "- Try : The code that could potentially cause an error goes in the try clause.\n",
    "- except : The code that executes if an error happens goes in the except clause, like print statments about exceptions,\n",
    "  loggin statements."
   ]
  }
 ],
 "metadata": {
  "kernelspec": {
   "display_name": "Python 3 (ipykernel)",
   "language": "python",
   "name": "python3"
  },
  "language_info": {
   "codemirror_mode": {
    "name": "ipython",
    "version": 3
   },
   "file_extension": ".py",
   "mimetype": "text/x-python",
   "name": "python",
   "nbconvert_exporter": "python",
   "pygments_lexer": "ipython3",
   "version": "3.9.12"
  }
 },
 "nbformat": 4,
 "nbformat_minor": 5
}
