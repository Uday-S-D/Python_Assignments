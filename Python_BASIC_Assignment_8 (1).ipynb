{
 "cells": [
  {
   "cell_type": "markdown",
   "id": "b6d107df",
   "metadata": {},
   "source": [
    "# Is the Python Standard Library included with PyInputPlus?"
   ]
  },
  {
   "cell_type": "markdown",
   "id": "87510778",
   "metadata": {},
   "source": [
    "PyInputPlus is not included in the Python Standard Library,it needs to be installed seperately using PIP"
   ]
  },
  {
   "cell_type": "code",
   "execution_count": 3,
   "id": "e15b80c3",
   "metadata": {},
   "outputs": [
    {
     "name": "stdout",
     "output_type": "stream",
     "text": [
      "Defaulting to user installation because normal site-packages is not writeable\n",
      "Requirement already satisfied: PyInputPlus in c:\\users\\bellary's\\appdata\\roaming\\python\\python39\\site-packages (0.2.12)\n",
      "Requirement already satisfied: pysimplevalidate>=0.2.7 in c:\\users\\bellary's\\appdata\\roaming\\python\\python39\\site-packages (from PyInputPlus) (0.2.12)\n",
      "Requirement already satisfied: stdiomask>=0.0.3 in c:\\users\\bellary's\\appdata\\roaming\\python\\python39\\site-packages (from PyInputPlus) (0.0.6)\n"
     ]
    }
   ],
   "source": [
    "!pip install PyInputPlus"
   ]
  },
  {
   "cell_type": "markdown",
   "id": "47a59d08",
   "metadata": {},
   "source": [
    "# 2. Why is PyInputPlus commonly imported with import pyinputplus as pypi?\n",
    "pypi is alias of PyInputPlus.\n",
    "The as pyip code in the import statement saves us from typing pyinputplus each time we want to call a PyInputPlus function. Instead we can use the shorter pyip name"
   ]
  },
  {
   "cell_type": "markdown",
   "id": "5acb803b",
   "metadata": {},
   "source": [
    "# 3. How do you distinguish between inputInt() and inputFloat()?"
   ]
  },
  {
   "cell_type": "markdown",
   "id": "afc42c3b",
   "metadata": {},
   "source": [
    "inputInt() : Accepts an integer value, and returns int value\n",
    "inputFloat() : Accepts integer/floating point value and returns float value\n",
    "Both takes additional parameters ‘min’, ‘max’, ‘greaterThan’ and ‘lessThan’  for bounds"
   ]
  },
  {
   "cell_type": "code",
   "execution_count": 5,
   "id": "2da6afbd",
   "metadata": {},
   "outputs": [
    {
     "name": "stdout",
     "output_type": "stream",
     "text": [
      "3.5\n",
      "'3.5' is not an integer.\n",
      "3\n",
      "2.0\n"
     ]
    },
    {
     "data": {
      "text/plain": [
       "2.0"
      ]
     },
     "execution_count": 5,
     "metadata": {},
     "output_type": "execute_result"
    }
   ],
   "source": [
    "import pyinputplus as pyip\n",
    "pyip.inputInt()\n",
    "pyip.inputFloat()"
   ]
  },
  {
   "cell_type": "markdown",
   "id": "5d316ead",
   "metadata": {},
   "source": [
    "# 4. Using PyInputPlus, how do you ensure that the user enters a whole number between 0 and 99?"
   ]
  },
  {
   "cell_type": "markdown",
   "id": "89c127e9",
   "metadata": {},
   "source": [
    "In the inputint function we can set the min = 0 and max =99 to ensure user enters number between 0 and 99"
   ]
  },
  {
   "cell_type": "code",
   "execution_count": 8,
   "id": "43b983bf",
   "metadata": {},
   "outputs": [
    {
     "name": "stdout",
     "output_type": "stream",
     "text": [
      "180\n",
      "Number must be at maximum 99.\n",
      "33\n"
     ]
    },
    {
     "data": {
      "text/plain": [
       "33"
      ]
     },
     "execution_count": 8,
     "metadata": {},
     "output_type": "execute_result"
    }
   ],
   "source": [
    "pyip.inputInt(min = 0, max =99)"
   ]
  },
  {
   "cell_type": "markdown",
   "id": "dd1e9daa",
   "metadata": {},
   "source": [
    "# 5. What is transferred to the keyword arguments allowRegexes and blockRegexes?"
   ]
  },
  {
   "cell_type": "markdown",
   "id": "bc715c1a",
   "metadata": {},
   "source": [
    "we can also use regular expressions to specify whether an input is allowed or not. The allowRegexes and blockRegexes \n",
    "keyword arguments take a list of regular expression strings to determine what the PyInputPlus function will accept or \n",
    "reject as valid input."
   ]
  },
  {
   "cell_type": "code",
   "execution_count": 9,
   "id": "5ff70c31",
   "metadata": {},
   "outputs": [
    {
     "name": "stdout",
     "output_type": "stream",
     "text": [
      "V\n"
     ]
    }
   ],
   "source": [
    "response = pyip.inputNum(allowRegexes=[r'(I|V|X|L|C|D|M)+', r'zero']) # it allowes roman letters as numbers too"
   ]
  },
  {
   "cell_type": "code",
   "execution_count": 11,
   "id": "2d8ed897",
   "metadata": {},
   "outputs": [
    {
     "name": "stdout",
     "output_type": "stream",
     "text": [
      "44\n",
      "This response is invalid.\n",
      "34\n",
      "This response is invalid.\n",
      "23\n"
     ]
    }
   ],
   "source": [
    "response = pyip.inputNum(blockRegexes=[r'[02468]$'])# blocks the even numbers"
   ]
  },
  {
   "cell_type": "markdown",
   "id": "99b47959",
   "metadata": {},
   "source": [
    "# 6. If a blank input is entered three times, what does inputStr(limit=3) do?\n",
    "it will throw RetryLimitException exception."
   ]
  },
  {
   "cell_type": "code",
   "execution_count": 12,
   "id": "a13cf3a0",
   "metadata": {},
   "outputs": [
    {
     "name": "stdout",
     "output_type": "stream",
     "text": [
      "\n",
      "Blank values are not allowed.\n",
      "\n",
      "Blank values are not allowed.\n",
      "\n",
      "Blank values are not allowed.\n"
     ]
    },
    {
     "ename": "RetryLimitException",
     "evalue": "",
     "output_type": "error",
     "traceback": [
      "\u001b[1;31m---------------------------------------------------------------------------\u001b[0m",
      "\u001b[1;31mValidationException\u001b[0m                       Traceback (most recent call last)",
      "File \u001b[1;32m~\\AppData\\Roaming\\Python\\Python39\\site-packages\\pyinputplus\\__init__.py:167\u001b[0m, in \u001b[0;36m_genericInput\u001b[1;34m(prompt, default, timeout, limit, applyFunc, validationFunc, postValidateApplyFunc, passwordMask)\u001b[0m\n\u001b[0;32m    166\u001b[0m \u001b[38;5;28;01mtry\u001b[39;00m:\n\u001b[1;32m--> 167\u001b[0m     possibleNewUserInput \u001b[38;5;241m=\u001b[39m \u001b[43mvalidationFunc\u001b[49m\u001b[43m(\u001b[49m\n\u001b[0;32m    168\u001b[0m \u001b[43m        \u001b[49m\u001b[43muserInput\u001b[49m\n\u001b[0;32m    169\u001b[0m \u001b[43m    \u001b[49m\u001b[43m)\u001b[49m  \u001b[38;5;66;03m# If validation fails, this function will raise an exception. Returns an updated value to use as user input (e.g. stripped of whitespace, etc.)\u001b[39;00m\n\u001b[0;32m    170\u001b[0m     \u001b[38;5;28;01mif\u001b[39;00m possibleNewUserInput \u001b[38;5;129;01mis\u001b[39;00m \u001b[38;5;129;01mnot\u001b[39;00m \u001b[38;5;28;01mNone\u001b[39;00m:\n",
      "File \u001b[1;32m~\\AppData\\Roaming\\Python\\Python39\\site-packages\\pyinputplus\\__init__.py:243\u001b[0m, in \u001b[0;36minputStr.<locals>.<lambda>\u001b[1;34m(value)\u001b[0m\n\u001b[0;32m    241\u001b[0m pysv\u001b[38;5;241m.\u001b[39m_validateGenericParameters(blank, strip, allowRegexes, blockRegexes)\n\u001b[1;32m--> 243\u001b[0m validationFunc \u001b[38;5;241m=\u001b[39m \u001b[38;5;28;01mlambda\u001b[39;00m value: \u001b[43mpysv\u001b[49m\u001b[38;5;241;43m.\u001b[39;49m\u001b[43m_prevalidationCheck\u001b[49m\u001b[43m(\u001b[49m\n\u001b[0;32m    244\u001b[0m \u001b[43m    \u001b[49m\u001b[43mvalue\u001b[49m\u001b[43m,\u001b[49m\u001b[43m \u001b[49m\u001b[43mblank\u001b[49m\u001b[38;5;241;43m=\u001b[39;49m\u001b[43mblank\u001b[49m\u001b[43m,\u001b[49m\u001b[43m \u001b[49m\u001b[43mstrip\u001b[49m\u001b[38;5;241;43m=\u001b[39;49m\u001b[43mstrip\u001b[49m\u001b[43m,\u001b[49m\u001b[43m \u001b[49m\u001b[43mallowRegexes\u001b[49m\u001b[38;5;241;43m=\u001b[39;49m\u001b[43mallowRegexes\u001b[49m\u001b[43m,\u001b[49m\u001b[43m \u001b[49m\u001b[43mblockRegexes\u001b[49m\u001b[38;5;241;43m=\u001b[39;49m\u001b[43mblockRegexes\u001b[49m\u001b[43m,\u001b[49m\u001b[43m \u001b[49m\u001b[43mexcMsg\u001b[49m\u001b[38;5;241;43m=\u001b[39;49m\u001b[38;5;28;43;01mNone\u001b[39;49;00m\u001b[43m,\u001b[49m\n\u001b[0;32m    245\u001b[0m \u001b[43m\u001b[49m\u001b[43m)\u001b[49m[\u001b[38;5;241m1\u001b[39m]\n\u001b[0;32m    247\u001b[0m \u001b[38;5;28;01mreturn\u001b[39;00m _genericInput(\n\u001b[0;32m    248\u001b[0m     prompt\u001b[38;5;241m=\u001b[39mprompt,\n\u001b[0;32m    249\u001b[0m     default\u001b[38;5;241m=\u001b[39mdefault,\n\u001b[1;32m   (...)\u001b[0m\n\u001b[0;32m    254\u001b[0m     validationFunc\u001b[38;5;241m=\u001b[39mvalidationFunc,\n\u001b[0;32m    255\u001b[0m )\n",
      "File \u001b[1;32m~\\AppData\\Roaming\\Python\\Python39\\site-packages\\pysimplevalidate\\__init__.py:250\u001b[0m, in \u001b[0;36m_prevalidationCheck\u001b[1;34m(value, blank, strip, allowRegexes, blockRegexes, excMsg)\u001b[0m\n\u001b[0;32m    248\u001b[0m \u001b[38;5;28;01mif\u001b[39;00m \u001b[38;5;129;01mnot\u001b[39;00m blank \u001b[38;5;129;01mand\u001b[39;00m value \u001b[38;5;241m==\u001b[39m \u001b[38;5;124m\"\u001b[39m\u001b[38;5;124m\"\u001b[39m:\n\u001b[0;32m    249\u001b[0m     \u001b[38;5;66;03m# value is blank but blanks aren't allowed.\u001b[39;00m\n\u001b[1;32m--> 250\u001b[0m     \u001b[43m_raiseValidationException\u001b[49m\u001b[43m(\u001b[49m\u001b[43m_\u001b[49m\u001b[43m(\u001b[49m\u001b[38;5;124;43m\"\u001b[39;49m\u001b[38;5;124;43mBlank values are not allowed.\u001b[39;49m\u001b[38;5;124;43m\"\u001b[39;49m\u001b[43m)\u001b[49m\u001b[43m,\u001b[49m\u001b[43m \u001b[49m\u001b[43mexcMsg\u001b[49m\u001b[43m)\u001b[49m\n\u001b[0;32m    251\u001b[0m \u001b[38;5;28;01melif\u001b[39;00m blank \u001b[38;5;129;01mand\u001b[39;00m value \u001b[38;5;241m==\u001b[39m \u001b[38;5;124m\"\u001b[39m\u001b[38;5;124m\"\u001b[39m:\n",
      "File \u001b[1;32m~\\AppData\\Roaming\\Python\\Python39\\site-packages\\pysimplevalidate\\__init__.py:222\u001b[0m, in \u001b[0;36m_raiseValidationException\u001b[1;34m(standardExcMsg, customExcMsg)\u001b[0m\n\u001b[0;32m    221\u001b[0m \u001b[38;5;28;01mif\u001b[39;00m customExcMsg \u001b[38;5;129;01mis\u001b[39;00m \u001b[38;5;28;01mNone\u001b[39;00m:\n\u001b[1;32m--> 222\u001b[0m     \u001b[38;5;28;01mraise\u001b[39;00m ValidationException(\u001b[38;5;28mstr\u001b[39m(standardExcMsg))\n\u001b[0;32m    223\u001b[0m \u001b[38;5;28;01melse\u001b[39;00m:\n",
      "\u001b[1;31mValidationException\u001b[0m: Blank values are not allowed.",
      "\nDuring handling of the above exception, another exception occurred:\n",
      "\u001b[1;31mRetryLimitException\u001b[0m                       Traceback (most recent call last)",
      "Input \u001b[1;32mIn [12]\u001b[0m, in \u001b[0;36m<cell line: 1>\u001b[1;34m()\u001b[0m\n\u001b[1;32m----> 1\u001b[0m response \u001b[38;5;241m=\u001b[39m \u001b[43mpyip\u001b[49m\u001b[38;5;241;43m.\u001b[39;49m\u001b[43minputStr\u001b[49m\u001b[43m(\u001b[49m\u001b[43mlimit\u001b[49m\u001b[38;5;241;43m=\u001b[39;49m\u001b[38;5;241;43m3\u001b[39;49m\u001b[43m)\u001b[49m\n",
      "File \u001b[1;32m~\\AppData\\Roaming\\Python\\Python39\\site-packages\\pyinputplus\\__init__.py:247\u001b[0m, in \u001b[0;36minputStr\u001b[1;34m(prompt, default, blank, timeout, limit, strip, allowRegexes, blockRegexes, applyFunc, postValidateApplyFunc)\u001b[0m\n\u001b[0;32m    241\u001b[0m pysv\u001b[38;5;241m.\u001b[39m_validateGenericParameters(blank, strip, allowRegexes, blockRegexes)\n\u001b[0;32m    243\u001b[0m validationFunc \u001b[38;5;241m=\u001b[39m \u001b[38;5;28;01mlambda\u001b[39;00m value: pysv\u001b[38;5;241m.\u001b[39m_prevalidationCheck(\n\u001b[0;32m    244\u001b[0m     value, blank\u001b[38;5;241m=\u001b[39mblank, strip\u001b[38;5;241m=\u001b[39mstrip, allowRegexes\u001b[38;5;241m=\u001b[39mallowRegexes, blockRegexes\u001b[38;5;241m=\u001b[39mblockRegexes, excMsg\u001b[38;5;241m=\u001b[39m\u001b[38;5;28;01mNone\u001b[39;00m,\n\u001b[0;32m    245\u001b[0m )[\u001b[38;5;241m1\u001b[39m]\n\u001b[1;32m--> 247\u001b[0m \u001b[38;5;28;01mreturn\u001b[39;00m \u001b[43m_genericInput\u001b[49m\u001b[43m(\u001b[49m\n\u001b[0;32m    248\u001b[0m \u001b[43m    \u001b[49m\u001b[43mprompt\u001b[49m\u001b[38;5;241;43m=\u001b[39;49m\u001b[43mprompt\u001b[49m\u001b[43m,\u001b[49m\n\u001b[0;32m    249\u001b[0m \u001b[43m    \u001b[49m\u001b[43mdefault\u001b[49m\u001b[38;5;241;43m=\u001b[39;49m\u001b[43mdefault\u001b[49m\u001b[43m,\u001b[49m\n\u001b[0;32m    250\u001b[0m \u001b[43m    \u001b[49m\u001b[43mtimeout\u001b[49m\u001b[38;5;241;43m=\u001b[39;49m\u001b[43mtimeout\u001b[49m\u001b[43m,\u001b[49m\n\u001b[0;32m    251\u001b[0m \u001b[43m    \u001b[49m\u001b[43mlimit\u001b[49m\u001b[38;5;241;43m=\u001b[39;49m\u001b[43mlimit\u001b[49m\u001b[43m,\u001b[49m\n\u001b[0;32m    252\u001b[0m \u001b[43m    \u001b[49m\u001b[43mapplyFunc\u001b[49m\u001b[38;5;241;43m=\u001b[39;49m\u001b[43mapplyFunc\u001b[49m\u001b[43m,\u001b[49m\n\u001b[0;32m    253\u001b[0m \u001b[43m    \u001b[49m\u001b[43mpostValidateApplyFunc\u001b[49m\u001b[38;5;241;43m=\u001b[39;49m\u001b[43mpostValidateApplyFunc\u001b[49m\u001b[43m,\u001b[49m\n\u001b[0;32m    254\u001b[0m \u001b[43m    \u001b[49m\u001b[43mvalidationFunc\u001b[49m\u001b[38;5;241;43m=\u001b[39;49m\u001b[43mvalidationFunc\u001b[49m\u001b[43m,\u001b[49m\n\u001b[0;32m    255\u001b[0m \u001b[43m\u001b[49m\u001b[43m)\u001b[49m\n",
      "File \u001b[1;32m~\\AppData\\Roaming\\Python\\Python39\\site-packages\\pyinputplus\\__init__.py:188\u001b[0m, in \u001b[0;36m_genericInput\u001b[1;34m(prompt, default, timeout, limit, applyFunc, validationFunc, postValidateApplyFunc, passwordMask)\u001b[0m\n\u001b[0;32m    185\u001b[0m         \u001b[38;5;28;01mreturn\u001b[39;00m default\n\u001b[0;32m    186\u001b[0m     \u001b[38;5;28;01melse\u001b[39;00m:\n\u001b[0;32m    187\u001b[0m         \u001b[38;5;66;03m# If there is no default, then raise the timeout/limit exception.\u001b[39;00m\n\u001b[1;32m--> 188\u001b[0m         \u001b[38;5;28;01mraise\u001b[39;00m limitOrTimeoutException\n\u001b[0;32m    189\u001b[0m \u001b[38;5;28;01melse\u001b[39;00m:\n\u001b[0;32m    190\u001b[0m     \u001b[38;5;66;03m# If there was no timeout/limit exceeded, let the user enter input again.\u001b[39;00m\n\u001b[0;32m    191\u001b[0m     \u001b[38;5;28;01mcontinue\u001b[39;00m\n",
      "\u001b[1;31mRetryLimitException\u001b[0m: "
     ]
    }
   ],
   "source": [
    "response = pyip.inputStr(limit=3)"
   ]
  },
  {
   "cell_type": "markdown",
   "id": "2cd44545",
   "metadata": {},
   "source": [
    "# 7. If blank input is entered three times, what does inputStr(limit=3, default='hello') do?\n",
    "    When you use limit keyword arguments and also pass a default keyword argument, the function returns the default value instead of raising an exception\n"
   ]
  },
  {
   "cell_type": "code",
   "execution_count": 13,
   "id": "73bb7d26",
   "metadata": {},
   "outputs": [
    {
     "name": "stdout",
     "output_type": "stream",
     "text": [
      "\n",
      "Blank values are not allowed.\n",
      "\n",
      "Blank values are not allowed.\n",
      "\n",
      "Blank values are not allowed.\n"
     ]
    },
    {
     "data": {
      "text/plain": [
       "'hello'"
      ]
     },
     "execution_count": 13,
     "metadata": {},
     "output_type": "execute_result"
    }
   ],
   "source": [
    "response = pyip.inputStr(limit=3,default='hello')\n",
    "response"
   ]
  },
  {
   "cell_type": "code",
   "execution_count": null,
   "id": "6352d3e8",
   "metadata": {},
   "outputs": [],
   "source": []
  }
 ],
 "metadata": {
  "kernelspec": {
   "display_name": "Python 3 (ipykernel)",
   "language": "python",
   "name": "python3"
  },
  "language_info": {
   "codemirror_mode": {
    "name": "ipython",
    "version": 3
   },
   "file_extension": ".py",
   "mimetype": "text/x-python",
   "name": "python",
   "nbconvert_exporter": "python",
   "pygments_lexer": "ipython3",
   "version": "3.9.12"
  }
 },
 "nbformat": 4,
 "nbformat_minor": 5
}
